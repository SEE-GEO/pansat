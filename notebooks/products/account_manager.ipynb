{
 "cells": [
  {
   "cell_type": "markdown",
   "id": "241dd64a",
   "metadata": {},
   "source": [
    "# Adding and modifying user accounts \n",
    "\n",
    "\n",
    "Before you can download data, you need to create a user account for the respective [data provider](https://pansat.readthedocs.io/en/latest/download/providers.html) and add your account information using the [Pansat account manager](https://pansat.readthedocs.io/en/latest/download/accounts.html#accounts). Here is an example for how you add an account, check your account info and delete an account. "
   ]
  },
  {
   "cell_type": "code",
   "execution_count": 2,
   "id": "e5965302",
   "metadata": {},
   "outputs": [],
   "source": [
    "from pansat.download.accounts import add_identity, get_identity, delete_identity"
   ]
  },
  {
   "cell_type": "markdown",
   "id": "422b4e0f",
   "metadata": {},
   "source": [
    "Let's say that you have created an account for the data provider [Icare](https://pansat.readthedocs.io/en/latest/download/providers/icare.html) with "
   ]
  },
  {
   "cell_type": "code",
   "execution_count": 12,
   "id": "3239bf3c",
   "metadata": {},
   "outputs": [],
   "source": [
    "username = 'Fritzi'\n",
    "password = 'LattSomEnPlatt12345!'"
   ]
  },
  {
   "cell_type": "markdown",
   "id": "a2a9abd9",
   "metadata": {},
   "source": [
    "**Add your account info**"
   ]
  },
  {
   "cell_type": "code",
   "execution_count": 13,
   "id": "5734fb11",
   "metadata": {},
   "outputs": [
    {
     "name": "stdout",
     "output_type": "stream",
     "text": [
      "Please enter password for provider 'Icare' and username 'Fritzi':\n",
      "········\n"
     ]
    }
   ],
   "source": [
    "add_identity('Icare', username)"
   ]
  },
  {
   "cell_type": "markdown",
   "id": "d7af453a",
   "metadata": {},
   "source": [
    "Note that for [Copernicus](https://pansat.readthedocs.io/en/latest/download/providers/copernicus.html), you need to install a key and API client following the steps in  https://cds.climate.copernicus.eu/api-how-to. This means that in addition to your username and password, you will have a *url* and *key* stored in *$HOME/.cdsapirc*. For this data provider simply use the *url* and *key*, instead of *username* and *password*: \n"
   ]
  },
  {
   "cell_type": "code",
   "execution_count": 14,
   "id": "dd388dd5",
   "metadata": {},
   "outputs": [
    {
     "name": "stdout",
     "output_type": "stream",
     "text": [
      "Please enter the key for provider 'Copernicus' with url 'https://cds.climate.copernicus.eu/api/v2':\n",
      "········\n"
     ]
    }
   ],
   "source": [
    "url = 'https://cds.climate.copernicus.eu/api/v2'\n",
    "key = '{uid}:{api-key}'\n",
    "\n",
    "add_identity('Copernicus', url)"
   ]
  },
  {
   "cell_type": "markdown",
   "id": "93b1ac06",
   "metadata": {},
   "source": [
    "**You can then check if your account info has been successfully stored in the encrypted identities.json**"
   ]
  },
  {
   "cell_type": "code",
   "execution_count": 15,
   "id": "e9c7a0b0",
   "metadata": {},
   "outputs": [
    {
     "data": {
      "text/plain": [
       "('Fritzi', \"'LattSomEnPlatt12345!'\")"
      ]
     },
     "execution_count": 15,
     "metadata": {},
     "output_type": "execute_result"
    }
   ],
   "source": [
    "get_identity('Icare')"
   ]
  },
  {
   "cell_type": "code",
   "execution_count": 16,
   "id": "622e042b",
   "metadata": {},
   "outputs": [
    {
     "data": {
      "text/plain": [
       "('https://cds.climate.copernicus.eu/api/v2', \"'{uid}:{api-key}'\")"
      ]
     },
     "execution_count": 16,
     "metadata": {},
     "output_type": "execute_result"
    }
   ],
   "source": [
    "get_identity('Copernicus')"
   ]
  },
  {
   "cell_type": "markdown",
   "id": "78740beb",
   "metadata": {},
   "source": [
    "Note that your account info will be overwritten if you add an account with an existing username for a certain provider. \n",
    "\n",
    "**To delete your account info again, use:**"
   ]
  },
  {
   "cell_type": "code",
   "execution_count": 17,
   "id": "0c73e3d2",
   "metadata": {},
   "outputs": [],
   "source": [
    "delete_identity('Copernicus')"
   ]
  }
 ],
 "metadata": {
  "kernelspec": {
   "display_name": "Python 3 (ipykernel)",
   "language": "python",
   "name": "python3"
  },
  "language_info": {
   "codemirror_mode": {
    "name": "ipython",
    "version": 3
   },
   "file_extension": ".py",
   "mimetype": "text/x-python",
   "name": "python",
   "nbconvert_exporter": "python",
   "pygments_lexer": "ipython3",
   "version": "3.9.7"
  }
 },
 "nbformat": 4,
 "nbformat_minor": 5
}
